{
  "nbformat": 4,
  "nbformat_minor": 0,
  "metadata": {
    "colab": {
      "provenance": [],
      "machine_shape": "hm"
    },
    "kernelspec": {
      "name": "python3",
      "display_name": "Python 3"
    },
    "language_info": {
      "name": "python"
    },
    "accelerator": "GPU",
    "gpuClass": "premium"
  },
  "cells": [
    {
      "cell_type": "code",
      "execution_count": 1,
      "metadata": {
        "colab": {
          "base_uri": "https://localhost:8080/"
        },
        "id": "UL-nJqc-0trr",
        "outputId": "9ffa6adf-1d51-492a-c080-c14032893e26"
      },
      "outputs": [
        {
          "output_type": "stream",
          "name": "stdout",
          "text": [
            "Looking in indexes: https://pypi.org/simple, https://us-python.pkg.dev/colab-wheels/public/simple/\n",
            "Requirement already satisfied: gdown in /usr/local/lib/python3.10/dist-packages (4.6.6)\n",
            "Collecting gdown\n",
            "  Downloading gdown-4.7.1-py3-none-any.whl (15 kB)\n",
            "Requirement already satisfied: filelock in /usr/local/lib/python3.10/dist-packages (from gdown) (3.12.0)\n",
            "Requirement already satisfied: requests[socks] in /usr/local/lib/python3.10/dist-packages (from gdown) (2.27.1)\n",
            "Requirement already satisfied: six in /usr/local/lib/python3.10/dist-packages (from gdown) (1.16.0)\n",
            "Requirement already satisfied: tqdm in /usr/local/lib/python3.10/dist-packages (from gdown) (4.65.0)\n",
            "Requirement already satisfied: beautifulsoup4 in /usr/local/lib/python3.10/dist-packages (from gdown) (4.11.2)\n",
            "Requirement already satisfied: soupsieve>1.2 in /usr/local/lib/python3.10/dist-packages (from beautifulsoup4->gdown) (2.4.1)\n",
            "Requirement already satisfied: urllib3<1.27,>=1.21.1 in /usr/local/lib/python3.10/dist-packages (from requests[socks]->gdown) (1.26.15)\n",
            "Requirement already satisfied: certifi>=2017.4.17 in /usr/local/lib/python3.10/dist-packages (from requests[socks]->gdown) (2022.12.7)\n",
            "Requirement already satisfied: charset-normalizer~=2.0.0 in /usr/local/lib/python3.10/dist-packages (from requests[socks]->gdown) (2.0.12)\n",
            "Requirement already satisfied: idna<4,>=2.5 in /usr/local/lib/python3.10/dist-packages (from requests[socks]->gdown) (3.4)\n",
            "Requirement already satisfied: PySocks!=1.5.7,>=1.5.6 in /usr/local/lib/python3.10/dist-packages (from requests[socks]->gdown) (1.7.1)\n",
            "Installing collected packages: gdown\n",
            "  Attempting uninstall: gdown\n",
            "    Found existing installation: gdown 4.6.6\n",
            "    Uninstalling gdown-4.6.6:\n",
            "      Successfully uninstalled gdown-4.6.6\n",
            "Successfully installed gdown-4.7.1\n"
          ]
        }
      ],
      "source": [
        "!pip install --upgrade --no-cache-dir gdown"
      ]
    },
    {
      "cell_type": "code",
      "source": [
        "!gdown --id 1oeBZmLH2FFCGcPiKd2rDyigxe1gpPTCv"
      ],
      "metadata": {
        "colab": {
          "base_uri": "https://localhost:8080/"
        },
        "id": "nmVh3C991k0i",
        "outputId": "45bc219a-cfb5-4169-d775-d4fac7ba910b"
      },
      "execution_count": 2,
      "outputs": [
        {
          "output_type": "stream",
          "name": "stdout",
          "text": [
            "/usr/local/lib/python3.10/dist-packages/gdown/cli.py:126: FutureWarning: Option `--id` was deprecated in version 4.3.1 and will be removed in 5.0. You don't need to pass it anymore to use a file ID.\n",
            "  warnings.warn(\n",
            "Downloading...\n",
            "From (uriginal): https://drive.google.com/uc?id=1oeBZmLH2FFCGcPiKd2rDyigxe1gpPTCv\n",
            "From (redirected): https://drive.google.com/uc?id=1oeBZmLH2FFCGcPiKd2rDyigxe1gpPTCv&confirm=t&uuid=b21aca27-f898-4f01-ae16-d79427cdd5b4\n",
            "To: /content/P01_data_fine_test.npy\n",
            "100% 284M/284M [00:03<00:00, 79.2MB/s]\n"
          ]
        }
      ]
    },
    {
      "cell_type": "code",
      "source": [
        "!gdown --id 1JbYgBpelWMZQ5FpcFkVVQZe8rOSGNta7"
      ],
      "metadata": {
        "colab": {
          "base_uri": "https://localhost:8080/"
        },
        "id": "eThRli6Q1sAe",
        "outputId": "c4a8ca09-6645-4a6e-b938-330cd9869358"
      },
      "execution_count": 3,
      "outputs": [
        {
          "output_type": "stream",
          "name": "stdout",
          "text": [
            "/usr/local/lib/python3.10/dist-packages/gdown/cli.py:126: FutureWarning: Option `--id` was deprecated in version 4.3.1 and will be removed in 5.0. You don't need to pass it anymore to use a file ID.\n",
            "  warnings.warn(\n",
            "Downloading...\n",
            "From (uriginal): https://drive.google.com/uc?id=1JbYgBpelWMZQ5FpcFkVVQZe8rOSGNta7\n",
            "From (redirected): https://drive.google.com/uc?id=1JbYgBpelWMZQ5FpcFkVVQZe8rOSGNta7&confirm=t&uuid=58550347-2a4e-4418-8a25-b0ac02adaba3\n",
            "To: /content/P01_data_fine.npy\n",
            "100% 3.98G/3.98G [00:32<00:00, 121MB/s] \n"
          ]
        }
      ]
    },
    {
      "cell_type": "code",
      "source": [
        "!gdown --id 1nKHX6zptMPIJcnaM3UWQExovb_81anp7"
      ],
      "metadata": {
        "colab": {
          "base_uri": "https://localhost:8080/"
        },
        "id": "EuHXHMJ211Hh",
        "outputId": "997a1b0e-8480-4d9b-aac0-64c98516c8b8"
      },
      "execution_count": 4,
      "outputs": [
        {
          "output_type": "stream",
          "name": "stdout",
          "text": [
            "/usr/local/lib/python3.10/dist-packages/gdown/cli.py:126: FutureWarning: Option `--id` was deprecated in version 4.3.1 and will be removed in 5.0. You don't need to pass it anymore to use a file ID.\n",
            "  warnings.warn(\n",
            "Downloading...\n",
            "From: https://drive.google.com/uc?id=1nKHX6zptMPIJcnaM3UWQExovb_81anp7\n",
            "To: /content/P01_glove_fine_test.npy\n",
            "100% 1.30M/1.30M [00:00<00:00, 159MB/s]\n"
          ]
        }
      ]
    },
    {
      "cell_type": "code",
      "source": [
        "!gdown --id 1xkSj-4abK24hFzf-5tbkAbthcIwn7wVu"
      ],
      "metadata": {
        "colab": {
          "base_uri": "https://localhost:8080/"
        },
        "id": "OycHiXOx17Ck",
        "outputId": "b2a3be86-d094-4442-d6ac-3db36ee6facc"
      },
      "execution_count": 5,
      "outputs": [
        {
          "output_type": "stream",
          "name": "stdout",
          "text": [
            "/usr/local/lib/python3.10/dist-packages/gdown/cli.py:126: FutureWarning: Option `--id` was deprecated in version 4.3.1 and will be removed in 5.0. You don't need to pass it anymore to use a file ID.\n",
            "  warnings.warn(\n",
            "Downloading...\n",
            "From: https://drive.google.com/uc?id=1xkSj-4abK24hFzf-5tbkAbthcIwn7wVu\n",
            "To: /content/P01_glove_fine.npy\n",
            "100% 18.1M/18.1M [00:00<00:00, 45.9MB/s]\n"
          ]
        }
      ]
    },
    {
      "cell_type": "code",
      "source": [
        "!pip install einops"
      ],
      "metadata": {
        "colab": {
          "base_uri": "https://localhost:8080/"
        },
        "id": "OLtfAGHv3gPw",
        "outputId": "e273a140-0a2b-46e8-dcf6-5ba30bb0fbaf"
      },
      "execution_count": 29,
      "outputs": [
        {
          "output_type": "stream",
          "name": "stdout",
          "text": [
            "Looking in indexes: https://pypi.org/simple, https://us-python.pkg.dev/colab-wheels/public/simple/\n",
            "Requirement already satisfied: einops in /usr/local/lib/python3.10/dist-packages (0.6.1)\n"
          ]
        }
      ]
    },
    {
      "cell_type": "code",
      "source": [
        "import glob\n",
        "import cv2\n",
        "import numpy as np\n",
        "import torch\n",
        "from torch.utils.data import Dataset\n",
        "\n",
        "from sklearn.preprocessing import Normalizer, MinMaxScaler\n",
        "\n",
        "\n",
        "class FmriDataset(Dataset):\n",
        "    def __init__(self, data_root=\".\", split=\"train\"):\n",
        "        \n",
        "        self.data_root = data_root\n",
        "        \n",
        "        self.data_fine = np.load(f'{data_root}/data_fine_{split}.npy')[0]\n",
        "        self.glove_fine = np.load(f'{data_root}/glove_fine_{split}.npy')[0]\n",
        "\n",
        "        # print(self.data_fine)\n",
        "        # print(self.class_fine)\n",
        "    \n",
        "    def __len__(self):\n",
        "        return len(self.data_fine)\n",
        "\n",
        "    def __getitem__(self, idx):\n",
        "        fmri_scan = self.data_fine[idx]\n",
        "        glove_emb = self.glove_fine[idx]\n",
        "        \n",
        "        return torch.tensor(fmri_scan).float(), torch.tensor(glove_emb).float()"
      ],
      "metadata": {
        "id": "tTlFlttP2d7a"
      },
      "execution_count": 1,
      "outputs": []
    },
    {
      "cell_type": "code",
      "source": [
        "import os\n",
        "import random\n",
        "import numpy as np\n",
        "from pandas import concat\n",
        "\n",
        "import torch\n",
        "import torch.nn as nn\n",
        "import torch.nn.functional as F\n",
        "\n",
        "from einops import rearrange"
      ],
      "metadata": {
        "id": "YcvO2BzJ3TMF"
      },
      "execution_count": 2,
      "outputs": []
    },
    {
      "cell_type": "code",
      "source": [
        "class Baseline(nn.Module):\n",
        "    def __init__(self):\n",
        "        super().__init__()\n",
        "\n",
        "        self.encoder = nn.Sequential(\n",
        "            nn.Linear(65730, 2000),\n",
        "            nn.LeakyReLU(0.3),\n",
        "            nn.BatchNorm1d(2000),\n",
        "            nn.Dropout(0.4),\n",
        "            nn.Linear(2000, 300),\n",
        "        )\n",
        "        self.decoder = None\n",
        "\n",
        "    def forward(self, x):\n",
        "\n",
        "        y_pred = self.encoder(x)\n",
        "\n",
        "        return y_pred"
      ],
      "metadata": {
        "id": "b1hNnaSO3aVx"
      },
      "execution_count": 3,
      "outputs": []
    },
    {
      "cell_type": "code",
      "source": [
        "device = torch.device(\"cuda\" if torch.cuda.is_available() else \"cpu\")\n",
        "n_gpu = torch.cuda.device_count()\n",
        "print(f\"{device} being used with {n_gpu} GPUs!!\")"
      ],
      "metadata": {
        "colab": {
          "base_uri": "https://localhost:8080/"
        },
        "id": "GP8R5Ln13xTA",
        "outputId": "751867bb-8e48-4f05-ce01-62e14fdf1c72"
      },
      "execution_count": 4,
      "outputs": [
        {
          "output_type": "stream",
          "name": "stdout",
          "text": [
            "cuda being used with 1 GPUs!!\n"
          ]
        }
      ]
    },
    {
      "cell_type": "code",
      "source": [
        "brain_model = Baseline()"
      ],
      "metadata": {
        "id": "T3v1Bc2C36lo"
      },
      "execution_count": 5,
      "outputs": []
    },
    {
      "cell_type": "code",
      "source": [
        "total_parameters = 0\n",
        "for name, child in brain_model.named_children():\n",
        "    num_params = sum([p.numel() for p in child.parameters() if p.requires_grad])\n",
        "    if num_params > 0:\n",
        "        print(f\"No. of params in {name}: {num_params}\")\n",
        "        total_parameters += num_params\n",
        "\n",
        "print(f\"Total number of params: {total_parameters}\")\n"
      ],
      "metadata": {
        "colab": {
          "base_uri": "https://localhost:8080/"
        },
        "id": "iKTvIKWA38w9",
        "outputId": "517008f8-1440-434d-9208-d10b02d1695e"
      },
      "execution_count": 6,
      "outputs": [
        {
          "output_type": "stream",
          "name": "stdout",
          "text": [
            "No. of params in encoder: 132066300\n",
            "Total number of params: 132066300\n"
          ]
        }
      ]
    },
    {
      "cell_type": "code",
      "source": [
        "if n_gpu > 1:\n",
        "  brain_model = nn.DataParallel(brain_model)"
      ],
      "metadata": {
        "id": "YO29ev7L4ByP"
      },
      "execution_count": 7,
      "outputs": []
    },
    {
      "cell_type": "code",
      "source": [
        "brain_model.to(device)\n",
        "\n",
        "params = list([p for p in brain_model.parameters()])"
      ],
      "metadata": {
        "id": "bwLYs69e4FSo"
      },
      "execution_count": 8,
      "outputs": []
    },
    {
      "cell_type": "code",
      "source": [
        "from torch.optim import *\n",
        "optimizer = RMSprop(params, lr=1e-3)"
      ],
      "metadata": {
        "id": "9Nb7BUsP4IRK"
      },
      "execution_count": 9,
      "outputs": []
    },
    {
      "cell_type": "code",
      "source": [
        "train_dataset = FmriDataset(split=\"train\") # Brain2word Dataset\n",
        "val_dataset = FmriDataset(split=\"test\") # Brain2word Dataset\n"
      ],
      "metadata": {
        "id": "VHHRijnp4YIw"
      },
      "execution_count": 10,
      "outputs": []
    },
    {
      "cell_type": "code",
      "source": [
        "from torch.utils.data import DataLoader, RandomSampler\n",
        "train_sampler = RandomSampler(train_dataset)\n",
        "\n",
        "train_loader = DataLoader(\n",
        "        train_dataset,\n",
        "        sampler=train_sampler,\n",
        "        batch_size=16,\n",
        "        num_workers=4,\n",
        "        pin_memory=True,\n",
        "        drop_last=True,\n",
        "    )"
      ],
      "metadata": {
        "id": "D6XGj7cn4bnG"
      },
      "execution_count": 11,
      "outputs": []
    },
    {
      "cell_type": "code",
      "source": [
        "val_loader = DataLoader(\n",
        "        val_dataset,\n",
        "        shuffle=True,\n",
        "        batch_size=16,\n",
        "        num_workers=4,\n",
        "        pin_memory=True,\n",
        "    )"
      ],
      "metadata": {
        "id": "yzg0v61_4ref"
      },
      "execution_count": 12,
      "outputs": []
    },
    {
      "cell_type": "code",
      "source": [
        "lr_scheduler = torch.optim.lr_scheduler.ReduceLROnPlateau(\n",
        "        optimizer,\n",
        "        factor=0.7,\n",
        "        patience=4,\n",
        "        threshold=1e-3,\n",
        "        min_lr=1e-6,\n",
        "        verbose=True,\n",
        "    )"
      ],
      "metadata": {
        "id": "OwRYXuSs4vQY"
      },
      "execution_count": 13,
      "outputs": []
    },
    {
      "cell_type": "code",
      "source": [
        "num_iter = len(train_loader)\n",
        "print(f\"training iterations {num_iter}\")"
      ],
      "metadata": {
        "colab": {
          "base_uri": "https://localhost:8080/"
        },
        "id": "esG-Vbs84zw6",
        "outputId": "c045a26d-e560-468d-b7cd-fcf3b16afd57"
      },
      "execution_count": 14,
      "outputs": [
        {
          "output_type": "stream",
          "name": "stdout",
          "text": [
            "training iterations 472\n"
          ]
        }
      ]
    },
    {
      "cell_type": "code",
      "source": [
        "from scipy.stats import pearsonr\n",
        "def corr_pearson(actual, predicted):\n",
        "    pearson = []\n",
        "    for i in range(len(actual)):\n",
        "        pearson_r, _  = pearsonr(actual[i],predicted[i])\n",
        "        pearson.append(pearson_r)\n",
        "    \n",
        "    return np.array(pearson).mean()"
      ],
      "metadata": {
        "id": "geLFaExG_mxx"
      },
      "execution_count": 15,
      "outputs": []
    },
    {
      "cell_type": "code",
      "source": [
        "from torch.nn.modules.loss import L1Loss\n",
        "from time import time\n",
        "\n",
        "mse_loss = nn.MSELoss()\n",
        "\n",
        "train_losses = []\n",
        "val_losses = []\n",
        "train_pcs = []\n",
        "val_pcs = []\n",
        "\n",
        "for epochId in range(25):\n",
        "  brain_model.train()\n",
        "\n",
        "  optimizer.zero_grad()\n",
        "\n",
        "  total_loss = 0\n",
        "\n",
        "  train_pc = 0\n",
        "\n",
        "  data_len = len(train_loader)\n",
        "\n",
        "  epoch_start = time()\n",
        "\n",
        "  num_examples = 0\n",
        "  for step, batch in enumerate(train_loader):\n",
        "      iterId = step + (epochId * data_len) - 1\n",
        "      with torch.no_grad():\n",
        "          batch = (x.cuda(non_blocking=True) for x in batch)\n",
        "          fmri_scan, glove_emb = batch\n",
        "\n",
        "          batch_size = fmri_scan.shape[0]\n",
        "\n",
        "      start_time = time()\n",
        "      y_pred = brain_model(fmri_scan)\n",
        "\n",
        "      loss = mse_loss(y_pred, glove_emb)\n",
        "\n",
        "\n",
        "      # loss = torch.tensor(1/loss, requires_grad=True)\n",
        "\n",
        "      loss.backward()\n",
        "      \n",
        "\n",
        "      optimizer.step()\n",
        "      brain_model.zero_grad()\n",
        "      end_time = time()\n",
        "      elapsed_time = end_time - start_time\n",
        "\n",
        "      total_loss += float(loss.item())\n",
        "        \n",
        "      num_examples += batch_size\n",
        "\n",
        "      \n",
        "      loss = corr_pearson(y_pred.cpu().detach().numpy(),glove_emb.cpu().detach().numpy())\n",
        "      train_pc += loss\n",
        "\n",
        "  valid_pc = 0.0\n",
        "  val_loss = 0.0\n",
        "  brain_model.eval()     # Optional when not using Model Specific layer\n",
        "  for step, batch in enumerate(val_loader):\n",
        "      with torch.no_grad():\n",
        "          batch = (x.cuda(non_blocking=True) for x in batch)\n",
        "          fmri_scan, glove_emb = batch\n",
        "\n",
        "          batch_size = fmri_scan.shape[0]\n",
        "      \n",
        "      target = brain_model(fmri_scan)\n",
        "      loss = corr_pearson(target.cpu().detach().numpy(),glove_emb.cpu().detach().numpy())\n",
        "      valid_pc += loss\n",
        "\n",
        "      loss = mse_loss(target, glove_emb)\n",
        "      val_loss += float(loss.item())\n",
        "\n",
        "  epoch_end = time()\n",
        "  epoch_time = epoch_end - epoch_start\n",
        "\n",
        "  train_loss = total_loss / data_len\n",
        "  train_losses.append(train_loss)\n",
        "  val_loss = val_loss / len(val_loader)\n",
        "  val_losses.append(val_loss)\n",
        "  train_pc = train_pc / data_len\n",
        "  train_pcs.append(train_pc)\n",
        "  valid_pc = valid_pc / len(val_loader)\n",
        "  val_pcs.append(valid_pc)\n",
        "\n",
        "  print(\n",
        "        f\"FINISHED Epoch:{epochId:2d} t_loss {train_loss} v_loss {val_loss} t_pc {train_pc} v_pc {valid_pc} elapsed {epoch_time:.2f}\"\n",
        "    )"
      ],
      "metadata": {
        "colab": {
          "base_uri": "https://localhost:8080/"
        },
        "id": "jwoiaHB15r-w",
        "outputId": "6471acaf-ae21-4158-d543-034a192b9c66"
      },
      "execution_count": 16,
      "outputs": [
        {
          "output_type": "stream",
          "name": "stdout",
          "text": [
            "FINISHED Epoch: 0 t_loss 0.9226337036717747 v_loss 0.20286879469366634 t_pc 0.16610419039242233 v_pc 0.346078976921195 elapsed 16.30\n",
            "FINISHED Epoch: 1 t_loss 0.3438027345149194 v_loss 0.17716002551948323 t_pc 0.2675090342487092 v_pc 0.3838155560438257 elapsed 16.03\n",
            "FINISHED Epoch: 2 t_loss 0.22638957328715567 v_loss 0.15543099229826646 t_pc 0.33677533230985596 v_pc 0.4245775123306129 elapsed 15.32\n",
            "FINISHED Epoch: 3 t_loss 0.17459710138076442 v_loss 0.13622251810396419 t_pc 0.40070255426748896 v_pc 0.47646922624960314 elapsed 14.79\n",
            "FINISHED Epoch: 4 t_loss 0.14487591349535575 v_loss 0.12642108977717512 t_pc 0.4614618303080898 v_pc 0.5153652962847203 elapsed 14.63\n",
            "FINISHED Epoch: 5 t_loss 0.12825104688941422 v_loss 0.12173684029018178 t_pc 0.5120092342847903 v_pc 0.5374376321071889 elapsed 14.85\n",
            "FINISHED Epoch: 6 t_loss 0.12100244608660371 v_loss 0.1213140829521067 t_pc 0.5415484455570047 v_pc 0.5388601817206689 elapsed 14.87\n",
            "FINISHED Epoch: 7 t_loss 0.11834012818033413 v_loss 0.12186154504032697 t_pc 0.5546826020776494 v_pc 0.5383710038219804 elapsed 15.03\n",
            "FINISHED Epoch: 8 t_loss 0.11670233651806237 v_loss 0.1219426148078021 t_pc 0.5628205027359631 v_pc 0.5362064127342585 elapsed 14.69\n",
            "FINISHED Epoch: 9 t_loss 0.11519684664652509 v_loss 0.12240193915717743 t_pc 0.570400218490799 v_pc 0.5356028288168885 elapsed 14.68\n",
            "FINISHED Epoch:10 t_loss 0.11367514672673355 v_loss 0.12213392731021433 t_pc 0.5777564122524685 v_pc 0.5359627309005154 elapsed 14.82\n",
            "FINISHED Epoch:11 t_loss 0.1122476494381741 v_loss 0.12219818352776415 t_pc 0.5848748009567225 v_pc 0.5367442470987149 elapsed 14.86\n",
            "FINISHED Epoch:12 t_loss 0.11058704547142073 v_loss 0.12536170859547222 t_pc 0.5928224330522074 v_pc 0.5234755498845469 elapsed 14.62\n",
            "FINISHED Epoch:13 t_loss 0.10916743211258771 v_loss 0.12358060347683289 t_pc 0.5997635908074491 v_pc 0.5329793050873104 elapsed 14.58\n",
            "FINISHED Epoch:14 t_loss 0.10777344261059317 v_loss 0.12620067048598738 t_pc 0.6062444607009733 v_pc 0.5242743570780738 elapsed 14.83\n",
            "FINISHED Epoch:15 t_loss 0.10637157745027946 v_loss 0.12637292418409796 t_pc 0.6127589093186812 v_pc 0.5187485819118902 elapsed 14.70\n",
            "FINISHED Epoch:16 t_loss 0.10489364909165996 v_loss 0.12594583038898075 t_pc 0.6198472936333163 v_pc 0.5217571488024016 elapsed 14.78\n",
            "FINISHED Epoch:17 t_loss 0.10342802110491163 v_loss 0.12817273486186476 t_pc 0.6263240897641192 v_pc 0.5120562801330361 elapsed 14.95\n",
            "FINISHED Epoch:18 t_loss 0.10205297352020014 v_loss 0.13094977092216997 t_pc 0.6326655694316933 v_pc 0.4898371878767519 elapsed 14.77\n",
            "FINISHED Epoch:19 t_loss 0.10063949824010922 v_loss 0.12778199683217442 t_pc 0.6389537194366866 v_pc 0.5124280924677247 elapsed 17.36\n",
            "FINISHED Epoch:20 t_loss 0.09919688773294122 v_loss 0.12965053363757975 t_pc 0.6457484208962632 v_pc 0.5080458817059501 elapsed 15.66\n",
            "FINISHED Epoch:21 t_loss 0.09782650244374902 v_loss 0.13150067824651213 t_pc 0.6515841283677887 v_pc 0.4961966682080292 elapsed 14.93\n",
            "FINISHED Epoch:22 t_loss 0.09636817657846515 v_loss 0.1336364399860887 t_pc 0.6579027382288302 v_pc 0.49459350352145726 elapsed 14.82\n",
            "FINISHED Epoch:23 t_loss 0.0952255434624977 v_loss 0.13127834218389847 t_pc 0.6630323924093643 v_pc 0.4999060957128383 elapsed 14.85\n",
            "FINISHED Epoch:24 t_loss 0.09395048102774357 v_loss 0.13749930963796728 t_pc 0.6683860074085126 v_pc 0.4730408833067716 elapsed 15.20\n"
          ]
        }
      ]
    },
    {
      "cell_type": "code",
      "source": [
        "import matplotlib.pyplot as plt\n",
        "fig, ax = plt.subplots()\n",
        "ax.plot(range(len(val_pcs)), val_pcs, '--b', label='Validation')\n",
        "ax.plot(range(len(train_pcs)), train_pcs, '-r', label='Training')\n",
        "leg = ax.legend()\n",
        "plt.title(\"Learning curve\")\n",
        "plt.xlabel('Epochs')\n",
        "plt.ylabel('Pearson Correlation')"
      ],
      "metadata": {
        "colab": {
          "base_uri": "https://localhost:8080/",
          "height": 489
        },
        "id": "xp4Hgihz8hu3",
        "outputId": "64ddaa78-6fd5-4f2f-92d4-e89bd57404b0"
      },
      "execution_count": 17,
      "outputs": [
        {
          "output_type": "execute_result",
          "data": {
            "text/plain": [
              "Text(0, 0.5, 'Pearson Correlation')"
            ]
          },
          "metadata": {},
          "execution_count": 17
        },
        {
          "output_type": "display_data",
          "data": {
            "text/plain": [
              "<Figure size 640x480 with 1 Axes>"
            ],
            "image/png": "[encoded data removed]"
          },
          "metadata": {}
        }
      ]
    },
    {
      "cell_type": "code",
      "source": [
        "import matplotlib.pyplot as plt\n",
        "fig, ax = plt.subplots()\n",
        "ax.plot(range(len(val_losses)), val_losses, '--b', label='Validation')\n",
        "ax.plot(range(len(train_losses)), train_losses, '-r', label='Training')\n",
        "leg = ax.legend()\n",
        "plt.title(\"Learning curve\")\n",
        "plt.xlabel('Epochs')\n",
        "plt.ylabel('MSE Loss')"
      ],
      "metadata": {
        "colab": {
          "base_uri": "https://localhost:8080/",
          "height": 489
        },
        "id": "Ccp2HIsHJm2T",
        "outputId": "90d7b4bf-4789-49e4-8c50-e146a5b75e9b"
      },
      "execution_count": 18,
      "outputs": [
        {
          "output_type": "execute_result",
          "data": {
            "text/plain": [
              "Text(0, 0.5, 'MSE Loss')"
            ]
          },
          "metadata": {},
          "execution_count": 18
        },
        {
          "output_type": "display_data",
          "data": {
            "text/plain": [
              "<Figure size 640x480 with 1 Axes>"
            ],
            "image/png": "[encoded data removed]"
          },
          "metadata": {}
        }
      ]
    },
    {
      "cell_type": "code",
      "source": [
        "torch.save(brain_model.state_dict(), 'complete_brain_simple_nn.pth')"
      ],
      "metadata": {
        "id": "488lqdUNK6pw"
      },
      "execution_count": 19,
      "outputs": []
    },
    {
      "cell_type": "code",
      "source": [],
      "metadata": {
        "id": "A0J3wlNXLN_d"
      },
      "execution_count": null,
      "outputs": []
    }
  ]
}